{
 "cells": [
  {
   "cell_type": "markdown",
   "id": "fb63eb6c-4ccc-4544-848e-d3174164ad3f",
   "metadata": {
    "tags": []
   },
   "source": [
    "# Load CLIP"
   ]
  },
  {
   "cell_type": "code",
   "execution_count": null,
   "id": "5a4e41cf-8c90-496b-ad7d-2be4cebca6af",
   "metadata": {},
   "outputs": [],
   "source": [
    "!pip install diffusers==0.11.1\n",
    "!pip install transformers scipy ftfy accelerate"
   ]
  },
  {
   "cell_type": "code",
   "execution_count": null,
   "id": "f13b45d2-1413-49e4-97e9-1f17e9549b88",
   "metadata": {},
   "outputs": [],
   "source": [
    "import numpy as np\n",
    "import torch\n",
    "import random\n",
    "from transformers import CLIPTextModel, CLIPTokenizer\n",
    "from utils import search_min_sentence_iteration, genetic, PGDattack, get_char_table, train\n",
    "device = 'cuda'\n",
    "\n",
    "len_prompt = 5\n",
    "\n",
    "tokenizer = CLIPTokenizer.from_pretrained('openai/clip-vit-large-patch14')\n",
    "text_encoder = CLIPTextModel.from_pretrained('openai/clip-vit-large-patch14')\n",
    "text_encoder = text_encoder.to(device)\n",
    "char_table = get_char_table()"
   ]
  },
  {
   "cell_type": "markdown",
   "id": "38f4e9f0-e5e9-4402-a55e-608c3e121559",
   "metadata": {
    "tags": []
   },
   "source": [
    "# Generate Untargeted Perturbation Prompts"
   ]
  },
  {
   "cell_type": "code",
   "execution_count": null,
   "id": "1649af1a-d979-4daa-9a78-360c1eb8df58",
   "metadata": {},
   "outputs": [],
   "source": [
    "attack_sentence = \"a snake and a young man\"\n",
    "\n",
    "#  Greedy\n",
    "greedy_sentence = search_min_sentence_iteration(attack_sentence, char_table, len_prompt, \n",
    "                                                1, tokenizer=tokenizer, text_encoder=text_encoder)\n",
    "print(\"greedy_prompt:\",greedy_sentence)\n",
    "\n",
    "#  Genetic\n",
    "for i in range(5):\n",
    "    genetic_prompt = genetic(attack_sentence, char_table, len_prompt, tokenizer=tokenizer, \n",
    "                             text_encoder=text_encoder)\n",
    "    genetic_sentence = attack_sentence + ' ' + genetic_prompt[0][0]\n",
    "    print(\"genetic_prompt:\",genetic_sentence)\n",
    "    \n",
    "#  PGD\n",
    "for i in range(5):\n",
    "    max_tensor, loss_list, pgd_prompt, max_loss = train(init_per_sample=1, sentence=attack_sentence, \n",
    "                                                        len_prompt=len_prompt, char_list=char_table, \n",
    "                                                        model=text_encoder.text_model, iter_num = 100, \n",
    "                                                        eta_u=1, tokenizer=tokenizer, text_encoder=text_encoder)  \n",
    "    pgd_sentence = attack_sentence + ' ' + pgd_prompt\n",
    "    print(\"pgd_prompt:\",pgd_sentence)"
   ]
  },
  {
   "cell_type": "markdown",
   "id": "51efbe44-3d0d-4776-88f2-5a8aac43e5f0",
   "metadata": {
    "tags": []
   },
   "source": [
    "# Targeted QF Attack"
   ]
  },
  {
   "cell_type": "markdown",
   "id": "528a9dca-8f83-4399-b369-b59069117735",
   "metadata": {},
   "source": [
    "## Step 1: Generate mask"
   ]
  },
  {
   "cell_type": "code",
   "execution_count": null,
   "id": "0add8df7-eb86-4606-8d09-96ab358fedc1",
   "metadata": {},
   "outputs": [],
   "source": [
    "from utils import object_key\n",
    "sentence_list = [\n",
    "    \"A black panther lying in a jungle and a young man\",\n",
    "    \"A fishing boat on a lake at sunrise and a young man\",\n",
    "    \"A tea cup on a saucer with a teapot and a young man\",\n",
    "    \"A man playing guitar on a street corner and a young man\",\n",
    "    \"A group of flamingos standing in a pond and a young man\",\n",
    "    \"A fireflies in a field at dusk and a young man\",\n",
    "    \"A train chugging through a countryside and a young man\",\n",
    "    \"A butterfly on a colorful flower and a young man\",\n",
    "    \"A soccer game being played on a stadium and a young man\",\n",
    "    \"A man kayaking down a river through rapids and a young man\"\n",
    "]\n",
    "mask = object_key(sentence_list, 'and a young man', thres=9, tokenizer=tokenizer, text_encoder=text_encoder)"
   ]
  },
  {
   "cell_type": "markdown",
   "id": "745cc22f-753d-4dcc-9cba-bf7d44c10111",
   "metadata": {},
   "source": [
    "## Step 2: Generate perturbation prompts"
   ]
  },
  {
   "cell_type": "code",
   "execution_count": null,
   "id": "35c2294d-cc44-40ef-9244-c558703291e4",
   "metadata": {},
   "outputs": [],
   "source": [
    "attack_sentence = \"a snake and a young man\"\n",
    "mask = mask.view(-1)\n",
    "\n",
    "#  Greedy\n",
    "greedy_sentence = search_min_sentence_iteration(attack_sentence, char_table, len_prompt, \n",
    "                                                1, tokenizer=tokenizer, text_encoder=text_encoder,  mask=mask)\n",
    "print(\"greedy_prompt:\",greedy_sentence)\n",
    "\n",
    "#  Genetic\n",
    "for i in range(10):\n",
    "    genetic_prompt = genetic(attack_sentence, char_table, len_prompt, tokenizer=tokenizer, \n",
    "                             text_encoder=text_encoder,  mask=mask)\n",
    "    genetic_sentence = attack_sentence + ' ' + genetic_prompt[0][0]\n",
    "    print(\"genetic_prompt:\",genetic_sentence)\n",
    "    \n",
    "#  PGD\n",
    "for i in range(10):\n",
    "    max_tensor, loss_list, pgd_prompt, max_loss = train(init_per_sample=1, sentence=attack_sentence, \n",
    "                                                        len_prompt=len_prompt, char_list=char_table, \n",
    "                                                        model=text_encoder.text_model, iter_num = 100, \n",
    "                                                        eta_u=1, tokenizer=tokenizer, text_encoder=text_encoder,  mask=mask)  \n",
    "    pgd_sentence = attack_sentence + ' ' + pgd_prompt\n",
    "    print(\"pgd_prompt:\",pgd_sentence)"
   ]
  },
  {
   "cell_type": "markdown",
   "id": "e0ebbcee-4d4d-40b5-b5b2-87f9488c328d",
   "metadata": {
    "tags": []
   },
   "source": [
    "# Evaluation"
   ]
  },
  {
   "cell_type": "markdown",
   "id": "6539f269-3a5e-4fb4-a510-9f1b1853b2fd",
   "metadata": {
    "tags": []
   },
   "source": [
    "## Load Stable Diffusion Model v1.4"
   ]
  },
  {
   "cell_type": "code",
   "execution_count": null,
   "id": "09fa3378-837a-4c5c-8e5e-0962d56ec140",
   "metadata": {},
   "outputs": [],
   "source": [
    "from diffusers import StableDiffusionPipeline\n",
    "from torch import autocast\n",
    "from utils import image_grid\n",
    "# pipe = StableDiffusionPipeline.from_pretrained('CompVis/stable-diffusion-v1-4',torch_dtype=torch.float16)\n",
    "pipe = StableDiffusionPipeline.from_pretrained(\n",
    "    'CompVis/stable-diffusion-v1-4', revision='fp16',\n",
    "    torch_dtype=torch.float16, use_auth_token=True)\n",
    "pipe = pipe.to(device)"
   ]
  },
  {
   "cell_type": "markdown",
   "id": "35b226a5-3f2e-4a58-9cc9-f94357df57ff",
   "metadata": {
    "tags": []
   },
   "source": [
    "## Generate Images and Show Results"
   ]
  },
  {
   "cell_type": "code",
   "execution_count": null,
   "id": "472bb3e6-f24e-4dc5-801b-3f4ee405893b",
   "metadata": {},
   "outputs": [],
   "source": [
    "generator = torch.Generator(\"cuda\").manual_seed(27)\n",
    "\n",
    "original_sentence = 'a snake and a young man'\n",
    "perturbation_prompt = '-08=*'\n",
    "sentence = original_sentence + ' ' + perturbation_prompt\n",
    "\n",
    "num_images = 5\n",
    "prompt = [sentence] * num_images\n",
    "with autocast('cuda'):\n",
    "    images = pipe(prompt, generator=generator, num_inference_steps=50).images\n",
    "\n",
    "grid = image_grid(images, rows=1, cols=5)\n",
    "grid\n"
   ]
  },
  {
   "cell_type": "code",
   "execution_count": null,
   "id": "44e533f3-ac4f-4712-a223-7ec58ea51945",
   "metadata": {},
   "outputs": [],
   "source": []
  }
 ],
 "metadata": {
  "kernelspec": {
   "display_name": "Python 3 (ipykernel)",
   "language": "python",
   "name": "python3"
  },
  "language_info": {
   "codemirror_mode": {
    "name": "ipython",
    "version": 3
   },
   "file_extension": ".py",
   "mimetype": "text/x-python",
   "name": "python",
   "nbconvert_exporter": "python",
   "pygments_lexer": "ipython3",
   "version": "3.8.5"
  }
 },
 "nbformat": 4,
 "nbformat_minor": 5
}
